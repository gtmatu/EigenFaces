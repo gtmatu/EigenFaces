{
 "cells": [
  {
   "cell_type": "code",
   "execution_count": null,
   "metadata": {},
   "outputs": [],
   "source": [
    "%matplotlib inline\n",
    "%reload_ext memory_profiler\n",
    "import scipy.io as sio\n",
    "import os\n",
    "from pprint import pprint\n",
    "import matplotlib.pyplot as plt\n",
    "import numpy as np\n",
    "import time\n",
    "import memory_profiler\n",
    "from random import randint\n",
    "from tqdm.notebook import tqdm\n",
    "from mpl_toolkits.mplot3d import Axes3D  \n",
    "from sklearn.decomposition import PCA, IncrementalPCA\n",
    "from cw1_library import *\n",
    "from cw1_library import pca as our_pca\n",
    "from sklearn.preprocessing import normalize\n",
    "\n",
    "#######################\n",
    "%reload_ext autoreload\n",
    "%autoreload 2\n",
    "np.random.seed(0) #for reproducibility (NOTE: notebook has)"
   ]
  },
  {
   "cell_type": "code",
   "execution_count": null,
   "metadata": {},
   "outputs": [],
   "source": [
    "# DEFINE CONSTANTS\n",
    "picH = 56\n",
    "picW = 46\n",
    "SAMPLES = 520\n",
    "FIGURE_NO = 1"
   ]
  },
  {
   "cell_type": "code",
   "execution_count": null,
   "metadata": {},
   "outputs": [],
   "source": [
    "# IMPORT DATASET\n",
    "FILENAME = os.path.join(os.getcwd(), \"face.mat\")\n",
    "dataset = sio.loadmat(FILENAME)\n",
    "faces = np.array(dataset[\"X\"]).transpose()\n",
    "for i in range(len(faces)):\n",
    "    faces[i] = np.rot90(np.array(faces[i]).reshape(picW, picH), k=-1).reshape(picW*picH)\n",
    "labels = np.array(dataset[\"l\"]).transpose().reshape(SAMPLES)\n",
    "\n",
    "\n",
    "print(\"Faces imported:  {}\\tShape of each face: {}\".format(faces.shape[0], faces[0].shape))\n",
    "print(\"Labels imported: {}\\tSamples per class:  10\".format(labels.shape[0]))"
   ]
  },
  {
   "cell_type": "code",
   "execution_count": null,
   "metadata": {
    "scrolled": true
   },
   "outputs": [],
   "source": [
    "# SHOW EXAMPLE FACES\n",
    "for i in range(10):\n",
    "    plt.subplot(2,5,i+1)\n",
    "    index = i*10\n",
    "    show_image(faces[index], label=\"Face: {}\".format(labels[index]), independent=False)"
   ]
  },
  {
   "cell_type": "code",
   "execution_count": null,
   "metadata": {},
   "outputs": [],
   "source": [
    "# SPLIT DATASET INTO TRAINING AND TEST SETS (80 - 20)\n",
    "# NOTE: this process mantains class balance\n",
    "\n",
    "train_faces, train_labels, test_faces, test_labels = train_test_split(faces, labels)\n",
    "\n",
    "print(\"Training set --->\", len(train_faces), \"samples\")\n",
    "print(\"Test set ------->\", len(test_faces), \"samples\")"
   ]
  },
  {
   "cell_type": "markdown",
   "metadata": {},
   "source": [
    "# Q1. [15] Computationally Efficient Eigenfaces\n",
    "Partition the provided face data into your training and testing data, e.g. 8 images and 2 other images of each face identity for training and testing respectively.\n",
    "\n",
    "Apply PCA to your training data i.e. compute the eigenvectors and eigenvalues of the covariance matrix S=(1/N)AA<sup>T</sup> directly, and use the low-dimensional computation of eigenspace i.e. using (1/N)A<sup>T</sup>A of your training data.\n",
    "\n",
    "Show and discuss, in comparison, including: the eigenvectors and eigenvalues, the mean image, how many eigenvectors are with non-zero eigenvalues, if the eigenvectors and eigenvalues obtained by the two methods are identical, what are the pros/cons of each method. Give physical meanings and show respective measurements for your answers.\n",
    "\n",
    "**Hereinafter, we use the low-dimensional PCA technique.**\n",
    "\n",
    "Do face image reconstruction while varying the number of PCA bases learnt. Show and discuss the results quantitatively and qualitatively for different face images.\n",
    "\n",
    "Perform PCA-based face recognition by the NN classification. Report and discuss, including: recognition accuracies (success rates), example success and failure cases, the confusion matrices, time/memory, by varying the parameter values. Give insights and reasons behind your observations."
   ]
  },
  {
   "cell_type": "markdown",
   "metadata": {},
   "source": [
    "### Plot mean and std dev for diff n_pc"
   ]
  },
  {
   "cell_type": "code",
   "execution_count": null,
   "metadata": {
    "scrolled": false
   },
   "outputs": [],
   "source": [
    "n_pc_range = np.arange(1,416,2)\n",
    "means = []\n",
    "# std_devs = []\n",
    "for i in tqdm(range(len(n_pc_range))):\n",
    "    mean, std_dev = get_reconstruction_error(train_faces, n_pc_range[i])\n",
    "    means.append(mean)\n",
    "#     std_devs.append(std_dev)"
   ]
  },
  {
   "cell_type": "code",
   "execution_count": null,
   "metadata": {},
   "outputs": [],
   "source": [
    "# plt.errorbar(n_pc_range, means, std_devs, linestyle='None')\n",
    "# plt.errorbar(n_pc_range, means, std_devs, marker='^')\n",
    "plt.plot(n_pc_range, means)\n",
    "plt.title(\"Reconstruction error vs M\")\n",
    "plt.xlabel(\"Number of Principal Components (M)\")\n",
    "plt.ylabel(\"Reconstruction error\")\n",
    "plt.grid()\n",
    "plt.show()"
   ]
  },
  {
   "cell_type": "markdown",
   "metadata": {},
   "source": [
    "### Generate covariance matrices & eigenthings"
   ]
  },
  {
   "cell_type": "code",
   "execution_count": null,
   "metadata": {},
   "outputs": [],
   "source": [
    "mean = np.mean(train_faces, axis=0)\n",
    "centered_data = train_faces-mean\n",
    "centered_data = centered_data.T\n",
    "num_samples = centered_data.shape[1]\n",
    "\n",
    "start = time.process_time()\n",
    "\n",
    "cov_matrix = (1/num_samples)*np.dot(centered_data, centered_data.T)    # Reg approach (1/N)AAT\n",
    "eig_vals, eig_vecs = np.linalg.eig(cov_matrix)\n",
    "\n",
    "middle = time.process_time()\n",
    "\n",
    "cov_matrix_ld = (1/num_samples)*np.dot(centered_data.T, centered_data)     # Low dimensional approach (1/N)ATA\n",
    "eig_vals_ld, eig_vecs_ld = np.linalg.eig(cov_matrix_ld)\n",
    "\n",
    "duration_ld = time.process_time() - middle\n",
    "duration = middle - start\n",
    "\n",
    "eig_vals = np.real(eig_vals)\n",
    "eig_vecs = np.real(eig_vecs)\n",
    "\n",
    "eig_vals_ld = np.real(eig_vals_ld)   \n",
    "eig_vecs_ld = np.real(eig_vecs_ld)\n",
    "\n",
    "#Sort eigenstuff from greatest to smallest\n",
    "idx = eig_vals.argsort()[::-1]\n",
    "eig_vals = eig_vals[idx]   # <-- This sorts the list in place.\n",
    "eig_vecs = eig_vecs[:, idx]\n",
    "\n",
    "idx_ld = eig_vals_ld.argsort()[::-1]\n",
    "eig_vals_ld = eig_vals_ld[idx_ld]     \n",
    "eig_vecs_ld = eig_vecs_ld[:, idx_ld]"
   ]
  },
  {
   "cell_type": "code",
   "execution_count": null,
   "metadata": {},
   "outputs": [],
   "source": [
    "show_image(np.dot(centered_data, eig_vecs_ld[0]))\n",
    "# SHOW Eigenfaces \n",
    "\n",
    "normed = normalize(eig_vecs, axis=1, norm='l1')\n",
    "\n",
    "for i in range(25):\n",
    "    plt.subplot(5,5,i+1)\n",
    "    show_image(normed[:,i], independent=False, axis=False)"
   ]
  },
  {
   "cell_type": "code",
   "execution_count": null,
   "metadata": {},
   "outputs": [],
   "source": [
    "# SHOW Eigenfaces low dim\n",
    "from sklearn.metrics.pairwise import cosine_similarity\n",
    "                                           \n",
    "normed_ld = normalize(eig_vecs_ld, axis=1, norm='l1')\n",
    "\n",
    "\n",
    "tmp = np.dot(-1,np.dot(centered_data, normed_ld))\n",
    "A = cosine_similarity(normed[:,:416].T, tmp.T)\n",
    "# A = cosine_similarity(normed[:,:416].T, normed_ld.T)\n",
    "\n",
    "\n",
    "print(A.shape)\n",
    "fig = plt.figure(figsize=(12,12))\n",
    "ax = fig.add_subplot(111) \n",
    "cb = ax.matshow(A, cmap=\"viridis\")\n",
    "fig.colorbar(cb)\n",
    "plt.show()\n",
    "# for i in range(25):\n",
    "#     plt.subplot(5,5,i+1)\n",
    "#     show_image(np.dot(np.dot(centered_data, normed_ld[:,i]),1), independent=False, axis=False)"
   ]
  },
  {
   "cell_type": "markdown",
   "metadata": {},
   "source": [
    "### Plot eigenstuff for both matrices"
   ]
  },
  {
   "cell_type": "code",
   "execution_count": null,
   "metadata": {},
   "outputs": [],
   "source": [
    "f = plt.figure(figsize=(12,12))\n",
    "ax = f.add_subplot(211)\n",
    "ax.title.set_text('Eigenvalues of S')\n",
    "ax2 = f.add_subplot(212)\n",
    "ax2.title.set_text('Eigenvalues of $S_{LD}$')\n",
    "\n",
    "n_eigen_vals = 25\n",
    "\n",
    "ax.bar(range(n_eigen_vals), eig_vals[:n_eigen_vals])\n",
    "ax2.bar(range(n_eigen_vals), eig_vals[:n_eigen_vals])\n",
    "\n",
    "# My intention was to plot eigenvectors - but how to plot vector?\n",
    "\n",
    "ax.grid()\n",
    "ax2.grid()\n",
    "plt.show()"
   ]
  },
  {
   "cell_type": "markdown",
   "metadata": {},
   "source": [
    "### Nearest Neighbor"
   ]
  },
  {
   "cell_type": "code",
   "execution_count": null,
   "metadata": {},
   "outputs": [],
   "source": [
    "n_pc_range = range(1,416,5)\n",
    "scores = []\n",
    "duration = []\n",
    "\n",
    "for i in tqdm(n_pc_range):\n",
    "    proj, comp, mean, centered_data = pca(train_faces, i)\n",
    "    test_centered = transform(test_faces, comp, mean)\n",
    "    \n",
    "    start = time.perf_counter()\n",
    "    scores.append(get_classification_score(proj, train_labels, test_centered, test_labels))\n",
    "    duration.append(time.perf_counter() - start)\n",
    "\n",
    "\n",
    "# print(scores)\n",
    "# print(scores2)"
   ]
  },
  {
   "cell_type": "code",
   "execution_count": null,
   "metadata": {},
   "outputs": [],
   "source": [
    "n_pc_range = range(1,416,5)\n",
    "\n",
    "mem_usage = []\n",
    "base_mem = memory_profiler.memory_usage()[0]\n",
    "print(\"BASE MEMORY:\",base_mem,\"MB\")\n",
    "for i in tqdm((n_pc_range), total=len(n_pc_range)):\n",
    "    %reload_ext memory_profiler\n",
    "    try:\n",
    "        mem = memory_profiler.memory_usage((nn_pca_classifier, (train_faces,train_labels,\n",
    "                                                                test_faces, test_labels,\n",
    "                                                                i)), \n",
    "                                           interval=0.000001, \n",
    "                                           include_children=True,\n",
    "                                           multiprocess=True)\n",
    "    except:\n",
    "        if i>0:\n",
    "            mem_usage[i] = mem_usage[i-1]\n",
    "        else:\n",
    "            mem_usage[i] \n",
    "            \n",
    "    mem_usage.append(max(mem)-base_mem)"
   ]
  },
  {
   "cell_type": "code",
   "execution_count": null,
   "metadata": {},
   "outputs": [],
   "source": [
    "f = plt.figure(figsize=(12,12))\n",
    "\n",
    "ax = f.add_subplot(131)\n",
    "ax.plot(n_pc_range, scores)\n",
    "ax.title(\"Accuracy of KNN classifier\")\n",
    "ax.xlabel(\"Number of Principal Components\")\n",
    "ax.ylabel(\"Test Accuracy\")\n",
    "ax.grid()\n",
    "\n",
    "ax2 = f.add_subplot(132)\n",
    "ax2.plot(n_pc_range, duration)\n",
    "ax2.title(\"Duration of classification\")\n",
    "ax2.xlabel(\"Number of Principal Components\")\n",
    "ax2.ylabel(\"Time taken to compute accuracy\")\n",
    "ax2.grid()\n",
    "\n",
    "ax3 = f.add_subplot(133)\n",
    "ax3.plot(n_pc_range, mem_usage)\n",
    "ax3.title(\"Memory Usage\")\n",
    "ax3.xlabel(\"Number of Principal Components\")\n",
    "ax3.ylabel(\"Memory usage (MB)\")\n",
    "ax3.grid()\n",
    "ax3.show()"
   ]
  },
  {
   "cell_type": "code",
   "execution_count": null,
   "metadata": {},
   "outputs": [],
   "source": [
    "n_pc_range = range(1,416,5)\n",
    "scores = []\n",
    "scores2 = []\n",
    "\n",
    "for i in tqdm(n_pc_range):\n",
    "    proj, comp, mean, centered_data = pca(train_faces, i)\n",
    "    test_centered = transform(test_faces, comp, mean)\n",
    "    \n",
    "    scores.append(get_classification_score(proj, train_labels, test_centered, test_labels))\n",
    "    scores2.append(get_classification_score(train_faces, train_labels, test_faces, test_labels))\n",
    "\n",
    "\n",
    "plt.plot(n_pc_range, scores)\n",
    "plt.plot(n_pc_range, scores2)\n",
    "plt.title(\"Accuracy of KNN classifier\")\n",
    "plt.xlabel(\"Value for K\")\n",
    "plt.ylabel(\"Test Accuracy\")"
   ]
  },
  {
   "cell_type": "code",
   "execution_count": null,
   "metadata": {},
   "outputs": [],
   "source": [
    "from resource import *\n",
    "\n",
    "print(getrusage(RUSAGE_SELF)[3])"
   ]
  },
  {
   "cell_type": "markdown",
   "metadata": {},
   "source": [
    "# Q2. [15] Incremental PCA\n",
    "Use the same data partition into training and testing as in Q1. Further divide the training data equally into four subsets, each with 104 images (i.e. two images per person). Starting with the first subset, keep adding a more subset into your training.\n",
    "\n",
    "Perform Incremental PCA, and compare it with the counterpart i.e. batch PCA, and PCA trained only by the first subset, in terms of training time, reconstruction error, face recognition accuracy.\n",
    "\n",
    "Show and discuss, including: how accurate your incremental method is, what important parameters in the method are (and how they are set). Provide your own discussions and measurements to support."
   ]
  },
  {
   "cell_type": "code",
   "execution_count": null,
   "metadata": {
    "scrolled": true
   },
   "outputs": [],
   "source": [
    "# Split train data into 4 mini-batches\n",
    "x_split,y_split = split_dataset(train_faces, train_labels, 4)\n",
    "\n",
    "print(\"x_split shape:\", x_split.shape)\n",
    "print(\"y_split shape:\", y_split.shape)\n",
    "\n",
    "dataset_partitions = [1,2,3,4]\n",
    "n_partitions, n_samples, n_features = x_split.shape\n",
    "\n",
    "x_unified_minibatches = [[],[],[],[]]\n",
    "y_unified_minibatches = [[],[],[],[]]\n",
    "for n_dataset_to_use in dataset_partitions: #1,2,3,4 quarter of dataset at the same time \n",
    "    x_train = np.array([], dtype=int)\n",
    "    y_train = np.array([], dtype=int)\n",
    "    for i in range(n_dataset_to_use):# for each quarter dataset\n",
    "        x_train = np.append(x_train, x_split[i]) # add Dset partition to main train set\n",
    "        y_train = np.append(y_train, y_split[i]) # same for class labels\n",
    "    x_train = x_train.reshape((n_dataset_to_use * n_samples, n_features))\n",
    "    x_unified_minibatches[dataset_partitions.index(n_dataset_to_use)] = x_train\n",
    "    y_unified_minibatches[dataset_partitions.index(n_dataset_to_use)] = y_train"
   ]
  },
  {
   "cell_type": "code",
   "execution_count": null,
   "metadata": {},
   "outputs": [],
   "source": [
    "# Perform Incremental PCA and batch PCA\n",
    "# and compare the two methods on training time and classification accuracy\n",
    "\n",
    "#####################################################\n",
    "# Set n_pc values to scan through\n",
    "n_components = list(range(0,105,1))[1:]\n",
    "\n",
    "#####################################################\n",
    "iPCA_scores = np.zeros(shape=(len(n_components),n_partitions))\n",
    "iPCA_training_times = np.zeros(shape=(len(n_components),n_partitions)) # values in ms\n",
    "\n",
    "PCA_scores = np.zeros(shape=(len(n_components)))\n",
    "PCA_training_times = np.zeros(shape=(len(n_components)))\n",
    "\n",
    "max_iter = len(n_components)*len(dataset_partitions)\n",
    "iter_count = 0\n",
    "for n_pc in tqdm(n_components):\n",
    "    # Train and test PCA\n",
    "    pca = PCA(n_components=n_pc)\n",
    "    exec_time = time.time()\n",
    "    pca.fit(train_faces)\n",
    "    exec_time = time.time() - exec_time\n",
    "    score = get_classification_score(pca.transform(train_faces), \n",
    "                                     train_labels,\n",
    "                                     pca.transform(test_faces),\n",
    "                                     test_labels)\n",
    "    PCA_scores[n_components.index(n_pc)] = score\n",
    "    PCA_training_times[n_components.index(n_pc)] = exec_time*1000\n",
    "    # Train and test iPCA\n",
    "#     iPCA = IncrementalPCA(n_components=n_pc, batch_size=104)\n",
    "    for n_dataset_to_use in dataset_partitions: #1,2,3,4 quarter of dataset at the same time\n",
    "        \n",
    "        iter_count += 1\n",
    "        print(\"Scoring exec time and accuracy of configuration\",iter_count,\"of\",max_iter,\"...\", end=\"     \\r\")\n",
    "        \n",
    "#         exec_time = time.time()\n",
    "#         for i in range(n_dataset_to_use):# for each quarter dataset\n",
    "#             iPCA.partial_fit(x_split[i])  # train iPCA with dataset    \n",
    "#         exec_time = time.time() - exec_time\n",
    "        \n",
    "        x_train = np.array([], dtype=int)\n",
    "        y_train = np.array([], dtype=int)\n",
    "        for i in range(n_dataset_to_use):# for each quarter dataset\n",
    "            x_train = np.append(x_train, x_split[i]) # add Dset partition to main train set\n",
    "            y_train = np.append(y_train, y_split[i]) # same for class labels\n",
    "        x_train = x_train.reshape((n_dataset_to_use * n_samples, n_features))\n",
    "        \n",
    "        iPCA = IncrementalPCA(n_components=n_pc, batch_size=104)\n",
    "        exec_time = time.time()\n",
    "        iPCA.fit(x_train)\n",
    "        exec_time = time.time() - exec_time\n",
    "        \n",
    "        \n",
    "        # score classification accuracy of model\n",
    "        score = get_classification_score(iPCA.transform(x_train), \n",
    "                                         y_train,\n",
    "                                         iPCA.transform(test_faces),\n",
    "                                         test_labels)\n",
    "        iPCA_scores[n_components.index(n_pc)][n_dataset_to_use-1] = score\n",
    "        iPCA_training_times[n_components.index(n_pc)][n_dataset_to_use-1] = exec_time*1000\n",
    "#         print(round(score*100,1), end = \"\\t\")\n",
    "#         print()\n",
    "print(\"\\nDONE\")"
   ]
  },
  {
   "cell_type": "code",
   "execution_count": null,
   "metadata": {},
   "outputs": [],
   "source": [
    "def dummy_iPCA_train(data, n_pc, b_size=104):\n",
    "    iPCA = IncrementalPCA(n_components=n_pc, batch_size=b_size)\n",
    "    iPCA.fit(data)\n",
    "    \n",
    "    \n",
    "def dummy_PCA_train(data, n_pc):\n",
    "#     pca = PCA(n_components=n_pc)\n",
    "#     pca.fit(data)\n",
    "    our_pca(data, n_pc)\n",
    "\n",
    "    \n",
    "## DEBUG\n",
    "n_components = list(range(0,105,10))[1:]\n",
    "##\n",
    "    \n",
    "    \n",
    "# Perform Incremental PCA and batch PCA\n",
    "# and compare the two methods on memory consumption\n",
    "\n",
    "n_partitions, n_samples, n_features = x_split.shape\n",
    "iPCA_memory = np.zeros(shape=(len(n_components),n_partitions)) # values in MB\n",
    "\n",
    "PCA_memory = np.zeros(shape=(len(n_components)))\n",
    "\n",
    "max_iter = len(n_components)*len(dataset_partitions)\n",
    "iter_count = 0\n",
    "\n",
    "base_mem = memory_profiler.memory_usage()[0]\n",
    "\n",
    "for n_pc in tqdm(n_components):\n",
    "    # Memory test --> PCA\n",
    "    mem = memory_profiler.memory_usage((dummy_PCA_train, (train_faces, n_pc)), \n",
    "                                        interval=0.000001, \n",
    "                                        include_children=True,\n",
    "                                        multiprocess=True)\n",
    "    PCA_memory[n_components.index(n_pc)]= (max(mem)-base_mem)\n",
    "    # Memory test --> iPCA\n",
    "    for n_dataset_to_use in dataset_partitions: #1,2,3,4 quarter of dataset at the same time \n",
    "        iter_count += 1\n",
    "        print(\"Scoring memory consumption of configuration\",iter_count,\"of\",max_iter,\"...\", end=\"     \\r\")\n",
    "        x_train = x_unified_minibatches[n_dataset_to_use-1]\n",
    "        # score classification accuracy of model \n",
    "#         base_mem = memory_profiler.memory_usage()[0]\n",
    "        mem = memory_profiler.memory_usage((dummy_iPCA_train, (x_train, n_pc)), \n",
    "                                            interval=0.000001, \n",
    "                                            include_children=True,\n",
    "                                            multiprocess=True)\n",
    "        iPCA_memory[n_components.index(n_pc)][n_dataset_to_use-1] = (max(mem)-base_mem)\n",
    "\n",
    "print(\"\\nDONE\")"
   ]
  },
  {
   "cell_type": "code",
   "execution_count": null,
   "metadata": {},
   "outputs": [],
   "source": [
    "# fig = plt.figure(1)\n",
    "# plt.xlabel(\"Number of principal components\")\n",
    "# plt.ylabel(\"Classification score (%)\")\n",
    "# for idx in range(len(iPCA_scores.T)):\n",
    "#     scores_plot = iPCA_scores.T[idx]\n",
    "#     label = dataset_partitions[idx]\n",
    "#     plt.plot(n_components, scores_plot*100, label=label)\n",
    "# plt.plot(n_components, PCA_scores*100, label=\"Batch PCA\")\n",
    "# plt.legend(title=\"Minibatches used\")\n",
    "# plt.grid()\n",
    "\n",
    "\n",
    "# fig = plt.figure(2)\n",
    "# plt.xlabel(\"Number of principal components\")\n",
    "# plt.ylabel(\"Training time (ms)\")\n",
    "# for idx in range(len(iPCA_training_times.T)):\n",
    "#     times_plot = iPCA_training_times.T[idx]\n",
    "#     label = dataset_partitions[idx]\n",
    "#     plt.plot(n_components, times_plot, label=label)\n",
    "# plt.plot(n_components, PCA_training_times, label=\"Batch PCA\")\n",
    "# plt.legend(title=\"Minibatches used\")\n",
    "# plt.grid()\n",
    "\n",
    "\n",
    "fig = plt.figure(3)\n",
    "plt.xlabel(\"Number of principal components\")\n",
    "plt.ylabel(\"Memory usage (MB)\")\n",
    "for idx in range(len(iPCA_memory.T)):\n",
    "    memory_plot = iPCA_memory.T[idx]\n",
    "    label = dataset_partitions[idx]\n",
    "    plt.plot(n_components, memory_plot, label=label, marker=\"o\")\n",
    "plt.plot(n_components, PCA_memory, label=\"Batch PCA\", marker=\"o\")\n",
    "plt.legend(title=\"Minibatches used\")\n",
    "plt.grid()\n",
    "plt.show()"
   ]
  },
  {
   "cell_type": "code",
   "execution_count": null,
   "metadata": {},
   "outputs": [],
   "source": [
    "n_components = list(range(0,105,1))[1:]\n",
    "m = np.where(iPCA_scores == np.amax(iPCA_scores))\n",
    "print(\"--- Best iPCA Classification Accuracy ---\")\n",
    "print(\"Accuracy:       \", round(iPCA_scores[m[0][0]][m[1][0]]*100,3), \"%\",sep=\"\\t\")\n",
    "print(\"# of components:\", n_components[m[0][0]],sep=\"\\t\")\n",
    "print(\"Minibatches used:\", dataset_partitions[m[1][0]],sep=\"\\t\")\n",
    "print(\"Training time:  \", round(iPCA_training_times[m[0][0]][m[1][0]],2),\"ms\", sep=\"\\t\")\n",
    "\n",
    "print(\"\\n\")\n",
    "\n",
    "m = np.where(PCA_scores == np.amax(PCA_scores))\n",
    "print(\"--- Best PCA Classification Accuracy ---\")\n",
    "print(\"Accuracy:       \", round(PCA_scores[m[0][0]]*100,3), \"%\",sep=\"\\t\")\n",
    "print(\"# of components:\", n_components[m[0][0]],sep=\"\\t\")\n",
    "print(\"Training time:  \", round(PCA_training_times[m[0][0]],2),\"ms\", sep=\"\\t\")"
   ]
  },
  {
   "cell_type": "markdown",
   "metadata": {},
   "source": [
    "# Q3. [20] PCA-LDA Ensemble for Face Recognition\n",
    "Use the provided face data, and the same data partition into training and testing as in Q1.\n",
    "\n",
    "**PCA-LDA**\n",
    "\n",
    "Perform the PCA-LDA based face recognition with the NN classifier. Report and discuss, in comparison to PCA method, including:\n",
    "- recognition accuracies by varying the hyper-parameter values, e.g. M_pca and M_lda\n",
    "- ranks of the scatter matrices,\n",
    "- the confusion matrix, example success and failure cases\n",
    "\n",
    "**PCA-LDA Ensemble**\n",
    "\n",
    "Show, measure and discuss the results, by varying its parameter values. Give insights and reasons behind your answers, including:\n",
    "- randomisation in feature space\n",
    "- the number of base models, the randomness parameter,\n",
    "- the error of the committee machine vs the average error of the individual models\n",
    "- fusion rules (majority voting and sum)\n",
    "- recognition accuracy and confusion matrix\n",
    "\n",
    "### Generate scatter matrices"
   ]
  },
  {
   "cell_type": "code",
   "execution_count": null,
   "metadata": {},
   "outputs": [],
   "source": [
    "# QUESTION 3\n",
    "\n",
    "proj, comp, mean, centered_data = our_pca(train_faces, 416)\n",
    "\n",
    "scatter_between, scatter_within = generate_scatter(proj)\n",
    "print(np.linalg.matrix_rank(scatter_between), np.linalg.matrix_rank(scatter_within))\n",
    "\n",
    "scatter_between_new, scatter_within_new = generate_scatter(train_faces)\n",
    "print(np.linalg.matrix_rank(scatter_between_new), np.linalg.matrix_rank(scatter_within_new))\n",
    "\n",
    "# scatter_between = generate_scatter(train_faces)\n",
    "# print(np.linalg.matrix_rank(scatter_between))"
   ]
  },
  {
   "cell_type": "code",
   "execution_count": null,
   "metadata": {
    "scrolled": true
   },
   "outputs": [],
   "source": [
    "x_train, x_test = fisherface(train_faces, train_labels, test_faces, 201 , 37)\n",
    "\n",
    "score = get_classification_score(x_train, train_labels, x_test, test_labels, cm=True)\n"
   ]
  },
  {
   "cell_type": "code",
   "execution_count": null,
   "metadata": {
    "scrolled": true
   },
   "outputs": [],
   "source": [
    "pca_range = np.arange(1,416,10)\n",
    "lda_range = np.arange(1,51,2)\n",
    "scores = np.empty((pca_range.shape[0], lda_range.shape[0]))\n",
    "# scores2 = []\n",
    "\n",
    "for M_pca in tqdm(range(len(pca_range))):\n",
    "    for M_lda in range(len(lda_range)):\n",
    "#         if M_pca < M_lda :\n",
    "#             continue\n",
    "        x_train, x_test = fisherface(train_faces, train_labels, test_faces, pca_range[M_pca] , lda_range[M_lda])\n",
    "\n",
    "        scores[M_pca][M_lda] = get_classification_score(x_train, train_labels, x_test, test_labels)\n",
    "\n",
    "\n",
    "# fig = plt.figure(figsize=(12,12))\n",
    "# ax = fig.add_subplot(111, projection='3d')\n",
    "# X, Y = np.meshgrid(pca_range, lda_range)\n",
    "\n",
    "# Z = scores.T\n",
    "\n",
    "# ax.plot_surface(X, Y, Z, cmap=\"viridis\")\n",
    "\n",
    "# ax.set_xlabel('PCA')\n",
    "# ax.set_ylabel('LDA')\n",
    "# ax.set_zlabel('Acc')\n",
    "\n",
    "# plt.show()"
   ]
  },
  {
   "cell_type": "code",
   "execution_count": null,
   "metadata": {},
   "outputs": [],
   "source": [
    "# ### Didn't go up to 416 for PCA, as starts to become more and more linearly correlated -> acc just gets worse\n",
    "\n",
    "# pca_range = np.arange(1,380,10)\n",
    "# lda_range = np.arange(1,52,2)\n",
    "# scores = np.zeros((pca_range.shape[0], lda_range.shape[0]))\n",
    "\n",
    "\n",
    "# for M_pca in tqdm(range(len(pca_range))):\n",
    "#     for M_lda in range(len(lda_range)):\n",
    "#         if M_pca < M_lda :\n",
    "#             continue\n",
    "#         x_train, x_test = fisherface(train_faces, train_labels, test_faces, pca_range[M_pca] , lda_range[M_lda])\n",
    "\n",
    "#         scores[M_pca][M_lda] = get_classification_score(x_train, train_labels, x_test, test_labels)\n"
   ]
  },
  {
   "cell_type": "code",
   "execution_count": null,
   "metadata": {
    "scrolled": false
   },
   "outputs": [],
   "source": [
    "fig = plt.figure(figsize=(12,12))\n",
    "ax = fig.add_subplot(111, projection='3d')\n",
    "X, Y = np.meshgrid(pca_range, lda_range)\n",
    "\n",
    "Z = scores.T\n",
    "\n",
    "ax.plot_surface(X, Y, Z, cmap=\"viridis\")\n",
    "\n",
    "ax.set_xlabel('M_PCA')\n",
    "ax.set_ylabel('M_LDA')\n",
    "ax.set_zlabel('NN Classification Accuracy')\n",
    "\n",
    "plt.show()"
   ]
  },
  {
   "cell_type": "code",
   "execution_count": 178,
   "metadata": {},
   "outputs": [
    {
     "name": "stdout",
     "output_type": "stream",
     "text": [
      "0.9038461538461539\n",
      "201 37\n"
     ]
    }
   ],
   "source": [
    "ind = np.unravel_index(np.argmax(scores, axis=None), scores.shape)\n",
    "print(scores[ind[0]][ind[1]])\n",
    "print(pca_range[ind[0]], lda_range[ind[1]])"
   ]
  },
  {
   "cell_type": "markdown",
   "metadata": {},
   "source": [
    "### Ensemble"
   ]
  },
  {
   "cell_type": "code",
   "execution_count": null,
   "metadata": {},
   "outputs": [],
   "source": [
    "##### HYPER PARAMS #####\n",
    "m_pca = 201\n",
    "m_lda=37\n",
    "M0 = [10, 50, 100, 150]\n",
    "\n",
    "n_neighbours = 2\n",
    "\n",
    "T_range = list(range(1,30,1))\n",
    "########################\n",
    "\n",
    "full_PCA = PCA(n_components=416).fit(train_faces)\n",
    "components = full_PCA.components_\n",
    "eigen_vals = full_PCA.explained_variance_\n",
    "\n",
    "sum_score_vec = []\n",
    "maj_score_vec = []\n",
    "tmp_vec = []\n",
    "\n",
    "for i, m in enumerate(M0):\n",
    "    sum_scores = np.zeros(shape=(len(T_range)), dtype=float)\n",
    "    majority_scores = np.zeros(shape=(len(T_range)), dtype=float)\n",
    "\n",
    "    avg_errors = np.zeros(shape=(len(T_range)), dtype=float)\n",
    "    \n",
    "    for n_models in tqdm(T_range):\n",
    "        fixed_components = components[:m]\n",
    "        predictions = []\n",
    "        error_vec = np.empty(shape=(n_models), dtype=float)\n",
    "        for model in range(n_models):\n",
    "            sampled_components, sampled_eigenvalues = get_random_subset(components, eigen_vals, m, 416, n=m_pca-m)\n",
    "            subspace_components = np.concatenate((fixed_components, sampled_components), axis=0)\n",
    "            proj = np.dot(subspace_components, train_faces.T).T\n",
    "            proj_test = np.dot(subspace_components, test_faces.T).T\n",
    "            lda = LDA(n_components=m_lda)\n",
    "            x_train = lda.fit_transform(proj, train_labels)\n",
    "            x_test = lda.transform(proj_test)\n",
    "            knn = KNeighborsClassifier(n_neighbors=n_neighbours)\n",
    "            knn.fit(x_train, train_labels)\n",
    "            pred = knn.predict_proba(x_test)\n",
    "            error_vec[model] = metrics.log_loss(test_labels, pred)\n",
    "            predictions.append(pred)\n",
    "\n",
    "        sum_classPredicted = sum_fusion(predictions)\n",
    "        majority_classPredicted = majority_fusion(predictions)\n",
    "\n",
    "        sum_score = metrics.accuracy_score(test_labels, sum_classPredicted)\n",
    "        majority_score = metrics.accuracy_score(test_labels, majority_classPredicted)\n",
    "\n",
    "        sum_scores[T_range.index(n_models)] = sum_score\n",
    "        majority_scores[T_range.index(n_models)] = majority_score\n",
    "\n",
    "        avg_errors[T_range.index(n_models)] = np.mean(error_vec)\n",
    "    sum_score_vec.append(sum_scores)\n",
    "    maj_score_vec.append(majority_scores)\n",
    "    tmp_vec.append(avg_errors)"
   ]
  },
  {
   "cell_type": "code",
   "execution_count": 175,
   "metadata": {},
   "outputs": [
    {
     "data": {
      "image/png": "[encoded data removed]",
      "text/plain": [
       "<Figure size 432x288 with 1 Axes>"
      ]
     },
     "metadata": {
      "needs_background": "light"
     },
     "output_type": "display_data"
    }
   ],
   "source": [
    "plt.figure()\n",
    "plt.plot(T_range, sum_score_vec[0]*100, label=\"10\")\n",
    "plt.plot(T_range, sum_score_vec[1]*100, label=\"50\")\n",
    "plt.plot(T_range, sum_score_vec[2]*100, label=\"100\")\n",
    "plt.plot(T_range, sum_score_vec[3]*100, label=\"150\")\n",
    "plt.xlabel(\"Number of models\")\n",
    "plt.ylabel(\"KNN classification accuracy (%)\")\n",
    "plt.title(\"Sum Rule\")\n",
    "plt.legend(title=\"Value for M0\")\n",
    "plt.grid()"
   ]
  },
  {
   "cell_type": "code",
   "execution_count": 176,
   "metadata": {},
   "outputs": [
    {
     "data": {
      "image/png": "[encoded data removed]",
      "text/plain": [
       "<Figure size 432x288 with 1 Axes>"
      ]
     },
     "metadata": {
      "needs_background": "light"
     },
     "output_type": "display_data"
    }
   ],
   "source": [
    "plt.figure()\n",
    "plt.plot(T_range, maj_score_vec[0], label=\"10\")\n",
    "plt.plot(T_range, maj_score_vec[1], label=\"50\")\n",
    "plt.plot(T_range, maj_score_vec[2], label=\"100\")\n",
    "plt.plot(T_range, maj_score_vec[3], label=\"150\")\n",
    "plt.xlabel(\"Number of models\")\n",
    "plt.ylabel(\"KNN classification accuracy (%)\")\n",
    "plt.title(\"Majority Voting\")\n",
    "plt.legend(title=\"Value for M0\")\n",
    "plt.grid()"
   ]
  },
  {
   "cell_type": "code",
   "execution_count": 177,
   "metadata": {},
   "outputs": [
    {
     "data": {
      "image/png": "[encoded data removed]",
      "text/plain": [
       "<Figure size 432x288 with 1 Axes>"
      ]
     },
     "metadata": {
      "needs_background": "light"
     },
     "output_type": "display_data"
    }
   ],
   "source": [
    "plt.figure()\n",
    "plt.plot(T_range, tmp_vec[0], label=\"10\")\n",
    "plt.plot(T_range, tmp_vec[1], label=\"50\")\n",
    "plt.plot(T_range, tmp_vec[2], label=\"100\")\n",
    "plt.plot(T_range, tmp_vec[3], label=\"150\")\n",
    "plt.xlabel(\"Number of models\")\n",
    "plt.ylabel(\"Average error of individual models\")\n",
    "plt.legend(title=\"Value for M0\")\n",
    "plt.grid()"
   ]
  },
  {
   "cell_type": "code",
   "execution_count": null,
   "metadata": {},
   "outputs": [],
   "source": [
    "##### HYPER PARAMS #####\n",
    "m_pca = 201\n",
    "m_lda=37\n",
    "M0 = 180\n",
    "\n",
    "n_neighbours = 2\n",
    "\n",
    "T_range = list(range(1,30,1))\n",
    "########################\n",
    "\n",
    "full_PCA = PCA(n_components=416).fit(train_faces)\n",
    "components = full_PCA.components_\n",
    "eigen_vals = full_PCA.explained_variance_\n",
    "\n",
    "sum_scores = np.zeros(shape=(len(T_range)), dtype=float)\n",
    "majority_scores = np.zeros(shape=(len(T_range)), dtype=float)\n",
    "\n",
    "sum_errors = np.zeros(shape=(len(T_range)), dtype=float)\n",
    "majority_errors = np.zeros(shape=(len(T_range)), dtype=float)\n",
    "\n",
    "avg_errors = np.zeros(shape=(len(T_range)), dtype=float)\n",
    "\n",
    "for n_models in tqdm(T_range):\n",
    "    fixed_components = components[:M0]\n",
    "    predictions = []\n",
    "    error_vec = np.empty(shape=(n_models), dtype=float)\n",
    "    for model in range(n_models):\n",
    "        sampled_components, sampled_eigenvalues = get_random_subset(components, eigen_vals, M0, 416, n=m_pca-M0)\n",
    "        subspace_components = np.concatenate((fixed_components, sampled_components), axis=0)\n",
    "        proj = np.dot(subspace_components, train_faces.T).T\n",
    "        proj_test = np.dot(subspace_components, test_faces.T).T\n",
    "        lda = LDA(n_components=m_lda)\n",
    "        x_train = lda.fit_transform(proj, train_labels)\n",
    "        x_test = lda.transform(proj_test)\n",
    "        knn = KNeighborsClassifier(n_neighbors=n_neighbours)\n",
    "        knn.fit(x_train, train_labels)\n",
    "        pred = knn.predict_proba(x_test)\n",
    "        error_vec[model] = metrics.log_loss(test_labels, pred)\n",
    "        predictions.append(pred)\n",
    "        \n",
    "    sum_classPredicted = sum_fusion(predictions)\n",
    "    majority_classPredicted = majority_fusion(predictions)\n",
    "    \n",
    "    sum_score = metrics.accuracy_score(test_labels, sum_classPredicted)\n",
    "    majority_score = metrics.accuracy_score(test_labels, majority_classPredicted)\n",
    "    \n",
    "    sum_scores[T_range.index(n_models)] = sum_score\n",
    "    majority_scores[T_range.index(n_models)] = majority_score\n",
    "    \n",
    "    avg_errors[T_range.index(n_models)] = np.mean(error_vec)"
   ]
  },
  {
   "cell_type": "code",
   "execution_count": null,
   "metadata": {},
   "outputs": [],
   "source": [
    "?np.argmax"
   ]
  },
  {
   "cell_type": "code",
   "execution_count": null,
   "metadata": {},
   "outputs": [],
   "source": []
  }
 ],
 "metadata": {
  "kernelspec": {
   "display_name": "Python 3",
   "language": "python",
   "name": "python3"
  },
  "language_info": {
   "codemirror_mode": {
    "name": "ipython",
    "version": 3
   },
   "file_extension": ".py",
   "mimetype": "text/x-python",
   "name": "python",
   "nbconvert_exporter": "python",
   "pygments_lexer": "ipython3",
   "version": "3.7.0"
  }
 },
 "nbformat": 4,
 "nbformat_minor": 2
}
